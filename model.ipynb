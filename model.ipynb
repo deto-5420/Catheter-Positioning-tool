{
 "metadata": {
  "language_info": {
   "codemirror_mode": {
    "name": "ipython",
    "version": 3
   },
   "file_extension": ".py",
   "mimetype": "text/x-python",
   "name": "python",
   "nbconvert_exporter": "python",
   "pygments_lexer": "ipython3",
   "version": 3
  },
  "orig_nbformat": 2
 },
 "nbformat": 4,
 "nbformat_minor": 2,
 "cells": [
  {
   "cell_type": "code",
   "execution_count": null,
   "metadata": {},
   "outputs": [],
   "source": [
    "\n",
    "import matplotlib.pyplot as plt\n",
    "import numpy as np\n",
    "import os\n",
    "import pickle\n",
    "import re\n",
    "from skimage.io import imread, imshow, imsave\n",
    "from skimage.transform import resize\n",
    "import tensorflow as tf\n",
    "from tensorflow import keras\n",
    "from tensorflow.keras import layers, backend as K\n",
    "from tensorflow.keras.callbacks import ModelCheckpoint, EarlyStopping\n",
    "from tensorflow.keras.layers import Input, concatenate, Conv2D, MaxPooling2D, Conv2DTranspose, Dropout\n",
    "import tensorflow.keras.losses\n",
    "import tensorflow.keras.metrics\n",
    "from tensorflow.keras.models import Model\n",
    "from tensorflow.keras.optimizers import Adam"
   ]
  },
  {
   "cell_type": "code",
   "execution_count": null,
   "metadata": {},
   "outputs": [],
   "source": [
    "%matplotlib inline\n",
    "\n",
    "K.set_image_data_format('channels_last')\n",
    "                    #initiate the variables\n",
    "smooth=1.0\n",
    "img_rows = 96\n",
    "img_cols = 96\n",
    "\n",
    "set_train, set_mask, set_test, set_test_mask  = load_images(20000)\n",
    "\n",
    "img_train= preprocessing(set_train, img_rows, img_cols, normalized=True)\n",
    "img_mask= preprocessing(set_mask, img_rows, img_cols, mask=True)\n",
    "\n",
    "test_set= preprocessing(set_test, img_rows, img_cols, normalized=True)\n",
    "test_mask_set= preprocessing(set_test_mask, img_rows, img_cols, mask=True)\n",
    "In [220]:\n",
    "img_ROI1=[]\n",
    "mask_ROI1=[]\n",
    "img_ROI_test=[]\n",
    "mask_ROI_test=[]\n",
    "\n",
    "for i in range(len(img_mask)): #to take only the image with a region of interest (nerve)\n",
    "    if img_mask[i].sum()!=0:\n",
    "        mask_ROI1.append(img_mask[i])\n",
    "        img_ROI1.append(img_train[i])\n",
    "        \n",
    "for i in range(len(test_mask_set)):\n",
    "    if test_mask_set[i].sum()!=0:\n",
    "        mask_ROI_test.append(test_mask_set[i])\n",
    "        img_ROI_test.append(test_set[i])\n",
    "\n",
    "    conv10 = Conv2D(2, (1, 1), activation='softmax')(conv9)\n",
    "\n",
    "    model = Model(inputs=[inputs], outputs=[conv10])\n",
    "\n",
    "    model.compile(optimizer= Adam(lr=1e-3), loss= [tensorflow.keras.losses.binary_crossentropy], metrics=[dice_coef_multilabel])\n",
    "\n",
    "    return model\n",
    "\n",
    "model = get_unet()"
   ]
  },
  {
   "cell_type": "code",
   "execution_count": null,
   "metadata": {},
   "outputs": [],
   "source": [
    "\n",
    "print(np.asarray(img_ROI1).shape)\n",
    "print(np.asarray(mask_ROI1).shape)      \n",
    "\n",
    "mask_ROI_F= mask2channels(mask_ROI1)\n",
    "test_mask_ROI_F= mask2channels(mask_ROI_test)\n",
    "\n",
    "img_maskf = mask2channels(img_mask)\n",
    "\n",
    "    "
   ]
  },
  {
   "cell_type": "code",
   "execution_count": null,
   "metadata": {},
   "outputs": [],
   "source": [
    "n=89\n",
    "plt.figure()\n",
    "plt.subplot(1,2,1)\n",
    "plt.imshow(img_mask[n,:,:,0])\n",
    "plt.subplot(1,2,2)\n",
    "plt.imshow(img_maskf[n,:,:,1])\n",
    "plt.colorbar()\n",
    "plt.show()\n",
    "\n",
    "\n"
   ]
  },
  {
   "cell_type": "code",
   "execution_count": null,
   "metadata": {},
   "outputs": [],
   "source": [
    "\n",
    "\n",
    "n=540\n",
    "plt.figure()\n",
    "plt.subplot(1,2,1)\n",
    "plt.imshow(mask_ROI_F[n,:,:,0])\n",
    "plt.subplot(1,2,2)\n",
    "plt.imshow(mask_ROI_F[n,:,:,1])\n",
    "plt.colorbar()\n",
    "plt.show()\n",
    "\n"
   ]
  },
  {
   "cell_type": "code",
   "execution_count": null,
   "metadata": {},
   "outputs": [],
   "source": [
    "\n",
    "print(img_ROI1[73].shape)\n",
    "n=67\n",
    "plt.figure()\n",
    "plt.subplot(1,2,1)\n",
    "plt.imshow(img_ROI1[n])\n",
    "plt.subplot(1,2,2)\n",
    "plt.imshow(mask_ROI1[n])\n",
    "plt.colorbar()\n",
    "plt.show()\n"
   ]
  },
  {
   "cell_type": "code",
   "execution_count": null,
   "metadata": {},
   "outputs": [],
   "source": [
    "model = get_unet()\n",
    "model.save(\"modelok\")\n",
    "\n",
    "\n",
    "model_Early= EarlyStopping(monitor=\"val_dice_coef_multilabel\", patience=10, verbose=2, mode=\"max\")\n",
    "\n",
    "model_checkpoint = ModelCheckpoint('weights.h5', monitor='val_dice_coef_multilabel', mode=\"max\", save_best_only=True)\n",
    "\n",
    "\n",
    "\n",
    "history = model.fit(np.asarray(img_ROI1), mask_ROI_F, batch_size=32, epochs=20,  verbose=1, shuffle=True,\n",
    "              validation_split=0.2, callbacks=[model_checkpoint, model_Early])\n",
    "\n"
   ]
  }
 ]
}